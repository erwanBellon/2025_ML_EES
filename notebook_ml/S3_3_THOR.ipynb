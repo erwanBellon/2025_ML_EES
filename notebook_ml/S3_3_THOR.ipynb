{
  "nbformat": 4,
  "nbformat_minor": 0,
  "metadata": {
    "colab": {
      "provenance": [],
      "toc_visible": true,
      "include_colab_link": true
    },
    "kernelspec": {
      "name": "python3",
      "display_name": "Python 3"
    },
    "language_info": {
      "name": "python"
    }
  },
  "cells": [
    {
      "cell_type": "markdown",
      "metadata": {
        "id": "view-in-github",
        "colab_type": "text"
      },
      "source": [
        "<a href=\"https://colab.research.google.com/github/erwanBellon/2025_ML_EES/blob/main/notebook_ml/S3_3_THOR.ipynb\" target=\"_parent\"><img src=\"https://colab.research.google.com/assets/colab-badge.svg\" alt=\"Open In Colab\"/></a>"
      ]
    },
    {
      "cell_type": "markdown",
      "source": [
        "# Ocean Regimes Identification"
      ],
      "metadata": {
        "id": "aRbHtbmd_Qzz"
      }
    },
    {
      "cell_type": "markdown",
      "source": [
        "<img src='https://unils-my.sharepoint.com/:i:/g/personal/tom_beucler_unil_ch/ESLP1e1BfUxKu-hchh7wZKcBZiG3bJnNbnt0PDDm3BK-9g?download=1'>\n",
        "\n",
        "<center>\n",
        "Photo Credits: <a href=\"https://unsplash.com/photos/zCMWw56qseM\">Sea Foam</a> by <a href=\"https://unsplash.com/@unstable_affliction\">Ivan Bandura</a> licensed under the <a href='https://unsplash.com/license'>Unsplash License</a>\n",
        "</center>\n",
        "\n",
        "\n",
        ">*A frequently asked question related to this work is “Which mixing processes matter most for climate?” As with many alluringly comprehensive sounding questions, the answer is “it depends.”* <br>\n",
        "> $\\qquad$ MacKinnon, Jennifer A., et al. <br>$\\qquad$\"Climate process team on internal wave–driven ocean mixing.\" <br>$\\qquad$ Bulletin of the American Meteorological Society 98.11 (2017): 2429-2454."
      ],
      "metadata": {
        "id": "dUurnKLqq1un"
      }
    },
    {
      "cell_type": "markdown",
      "source": [
        "In week 4's final notebook, we will perform clustering to identify regimes in data taken from the realistic numerical ocean model [Estimating the Circulation and Climate of the Ocean](https://www.ecco-group.org/products-ECCO-V4r4.htm). Sonnewald et al. point out that finding robust regimes is intractable with a naïve approach, so we will be using reduced dimensionality data.\n",
        "\n",
        "It is worth pointing out, however, that the reduction was done with an equation instead of one of the algorithms we discussed this week. If you're interested in the full details, you can check out [Sonnewald et al. (2019)](https://doi.org/10.1029/2018EA000519)"
      ],
      "metadata": {
        "id": "yT4KFNrpZIfY"
      }
    },
    {
      "cell_type": "markdown",
      "source": [
        "**Setup**"
      ],
      "metadata": {
        "id": "PHKbQVLOUC5v"
      }
    },
    {
      "cell_type": "markdown",
      "source": [
        "First, let's import a few common modules, ensure MatplotLib plots figures inline and prepare a function to save the figures. We also check that Python 3.5 or later is installed (although Python 2.x may work, it is deprecated so we strongly recommend you use Python 3 instead), as well as Scikit-Learn ≥0.20."
      ],
      "metadata": {
        "id": "4TxieA70pcLo"
      }
    },
    {
      "cell_type": "code",
      "execution_count": 1,
      "metadata": {
        "id": "S61_Smb9T6ad"
      },
      "outputs": [],
      "source": [
        "# Python ≥3.5 is required\n",
        "import sys\n",
        "assert sys.version_info >= (3, 5)\n",
        "\n",
        "# Scikit-Learn ≥0.20 is required\n",
        "import sklearn\n",
        "assert sklearn.__version__ >= \"0.20\"\n",
        "\n",
        "# Common imports\n",
        "import numpy as np\n",
        "import os\n",
        "import xarray as xr\n",
        "import pooch\n",
        "\n",
        "# to make this notebook's output stable across runs\n",
        "rnd_seed = 42\n",
        "rnd_gen = np.random.default_rng(rnd_seed)\n",
        "\n",
        "# To plot pretty figures\n",
        "%matplotlib inline\n",
        "import matplotlib as mpl\n",
        "import matplotlib.pyplot as plt\n",
        "mpl.rc('axes', labelsize=14)\n",
        "mpl.rc('xtick', labelsize=12)\n",
        "mpl.rc('ytick', labelsize=12)\n",
        "\n",
        "# Where to save the figures\n",
        "PROJECT_ROOT_DIR = \".\"\n",
        "CHAPTER_ID = \"dim_reduction\"\n",
        "IMAGES_PATH = os.path.join(PROJECT_ROOT_DIR, \"images\", CHAPTER_ID)\n",
        "os.makedirs(IMAGES_PATH, exist_ok=True)\n",
        "\n",
        "def save_fig(fig_id, tight_layout=True, fig_extension=\"png\", resolution=300):\n",
        "    path = os.path.join(IMAGES_PATH, fig_id + \".\" + fig_extension)\n",
        "    print(\"Saving figure\", fig_id)\n",
        "    if tight_layout:\n",
        "        plt.tight_layout()\n",
        "    plt.savefig(path, format=fig_extension, dpi=resolution)"
      ]
    },
    {
      "cell_type": "markdown",
      "source": [
        "Here we're going to import the [StandardScaler](https://duckduckgo.com/sklearn.preprocessing.standardscaler) function from scikit's preprocessing tools, import the [scikit clustering library](https://duckduckgo.com/sklearn.clustering), and set up the colormap that we will use when plotting."
      ],
      "metadata": {
        "id": "6vUFq1DYUqCx"
      }
    },
    {
      "cell_type": "code",
      "source": [
        "from sklearn.preprocessing import StandardScaler\n",
        "import sklearn.cluster as cluster\n",
        "\n",
        "from matplotlib.colors import LinearSegmentedColormap, ListedColormap\n",
        "colors = ['royalblue', 'cyan','yellow', 'orange', 'magenta', 'red']\n",
        "mycmap = ListedColormap(colors)"
      ],
      "metadata": {
        "id": "34PAL9TkUHd_"
      },
      "execution_count": 2,
      "outputs": []
    },
    {
      "cell_type": "markdown",
      "source": [
        "**Data Preprocessing**"
      ],
      "metadata": {
        "id": "Fr46ZRUjpTzo"
      }
    },
    {
      "cell_type": "markdown",
      "source": [
        "The first thing we need to do is retrieve the list of files we'll be working on. We'll rely on pooch to access the files hosted on the cloud."
      ],
      "metadata": {
        "id": "O9QOXpKGpgt7"
      }
    },
    {
      "cell_type": "code",
      "source": [
        "# Retrieve the files from the cloud using Pooch.\n",
        "data_url = 'https://unils-my.sharepoint.com/:u:/g/personal/tom_beucler_unil_ch/EUYqUzpIjoJBui02QEo6q1wBSN1Zsi1ofE6I3G4B9LJn_Q?download=1'\n",
        "hash = '3f41661c7a087fa7d7af1d2a8baf95c065468f8a415b8514baedda2f5bc18bb5'\n",
        "\n",
        "files = pooch.retrieve(data_url, known_hash=hash, processor=pooch.Unzip())\n",
        "[print(filename) for filename in files];"
      ],
      "metadata": {
        "id": "nDNJnzOAfKE_",
        "outputId": "9747e79c-7745-4ebc-ab38-59a8676a4b37",
        "colab": {
          "base_uri": "https://localhost:8080/"
        }
      },
      "execution_count": 3,
      "outputs": [
        {
          "output_type": "stream",
          "name": "stderr",
          "text": [
            "Downloading data from 'https://unils-my.sharepoint.com/:u:/g/personal/tom_beucler_unil_ch/EUYqUzpIjoJBui02QEo6q1wBSN1Zsi1ofE6I3G4B9LJn_Q?download=1' to file '/root/.cache/pooch/8a10ee1ae6941d8b9bb543c954c793fa-EUYqUzpIjoJBui02QEo6q1wBSN1Zsi1ofE6I3G4B9LJn_Q'.\n",
            "Unzipping contents of '/root/.cache/pooch/8a10ee1ae6941d8b9bb543c954c793fa-EUYqUzpIjoJBui02QEo6q1wBSN1Zsi1ofE6I3G4B9LJn_Q' to '/root/.cache/pooch/8a10ee1ae6941d8b9bb543c954c793fa-EUYqUzpIjoJBui02QEo6q1wBSN1Zsi1ofE6I3G4B9LJn_Q.unzip'\n"
          ]
        },
        {
          "output_type": "stream",
          "name": "stdout",
          "text": [
            "/root/.cache/pooch/8a10ee1ae6941d8b9bb543c954c793fa-EUYqUzpIjoJBui02QEo6q1wBSN1Zsi1ofE6I3G4B9LJn_Q.unzip/curlTau.npy\n",
            "/root/.cache/pooch/8a10ee1ae6941d8b9bb543c954c793fa-EUYqUzpIjoJBui02QEo6q1wBSN1Zsi1ofE6I3G4B9LJn_Q.unzip/curlB.npy\n",
            "/root/.cache/pooch/8a10ee1ae6941d8b9bb543c954c793fa-EUYqUzpIjoJBui02QEo6q1wBSN1Zsi1ofE6I3G4B9LJn_Q.unzip/BPT.npy\n",
            "/root/.cache/pooch/8a10ee1ae6941d8b9bb543c954c793fa-EUYqUzpIjoJBui02QEo6q1wBSN1Zsi1ofE6I3G4B9LJn_Q.unzip/curlA.npy\n",
            "/root/.cache/pooch/8a10ee1ae6941d8b9bb543c954c793fa-EUYqUzpIjoJBui02QEo6q1wBSN1Zsi1ofE6I3G4B9LJn_Q.unzip/curlCori.npy\n",
            "/root/.cache/pooch/8a10ee1ae6941d8b9bb543c954c793fa-EUYqUzpIjoJBui02QEo6q1wBSN1Zsi1ofE6I3G4B9LJn_Q.unzip/noiseMask.npy\n"
          ]
        }
      ]
    },
    {
      "cell_type": "markdown",
      "source": [
        "And now that we have a set of files to load, let's set up a dictionary with the variable names as keys and the data in numpy array format as the values."
      ],
      "metadata": {
        "id": "bZxAvW1gBbO1"
      }
    },
    {
      "cell_type": "code",
      "source": [
        "# Let's read in the variable names from the filepaths\n",
        "var_names = []\n",
        "[var_names.append(path.split('/')[-1][:-4]) for path in files]\n",
        "\n",
        "# And build a dictionary of the data variables keyed to the filenames\n",
        "data_dict = {}\n",
        "for idx, val in enumerate(var_names):\n",
        "    data_dict[val] = np.load(files[idx]).T\n",
        "\n",
        "#We'll print the name of the variable loaded and the associated shape\n",
        "[print(f'Varname: {item[0]:<15} Shape: {item[1].shape}') for item in data_dict.items()];"
      ],
      "metadata": {
        "id": "b8OmoBGHBkwG",
        "outputId": "a960f746-270a-44d4-9797-da53702a3090",
        "colab": {
          "base_uri": "https://localhost:8080/"
        }
      },
      "execution_count": 4,
      "outputs": [
        {
          "output_type": "stream",
          "name": "stdout",
          "text": [
            "Varname: curlTau         Shape: (360, 720)\n",
            "Varname: curlB           Shape: (360, 720)\n",
            "Varname: BPT             Shape: (360, 720)\n",
            "Varname: curlA           Shape: (360, 720)\n",
            "Varname: curlCori        Shape: (360, 720)\n",
            "Varname: noiseMask       Shape: (360, 720)\n"
          ]
        }
      ]
    },
    {
      "cell_type": "markdown",
      "source": [
        "We now have a dictionary that uses the filename as the key! Feel free to explore the data (e.g., loading the keys, checking the shape of the arrays, plotting)"
      ],
      "metadata": {
        "id": "RMbhwWTunLvz"
      }
    },
    {
      "cell_type": "code",
      "source": [
        "print(var_names)\n",
        "print(data_dict['curlA'])"
      ],
      "metadata": {
        "id": "PNC6L0ElyLmb",
        "outputId": "43e5e81d-031c-4d2f-e479-c1935054bd3b",
        "colab": {
          "base_uri": "https://localhost:8080/"
        }
      },
      "execution_count": 16,
      "outputs": [
        {
          "output_type": "stream",
          "name": "stdout",
          "text": [
            "['curlTau', 'curlB', 'BPT', 'curlA', 'curlCori', 'noiseMask']\n",
            "[[            nan             nan             nan ...             nan\n",
            "              nan             nan]\n",
            " [            nan             nan             nan ...             nan\n",
            "              nan             nan]\n",
            " [            nan             nan             nan ...             nan\n",
            "              nan             nan]\n",
            " ...\n",
            " [-2.00494809e-10 -1.91009513e-10 -1.81546207e-10 ... -2.06477742e-10\n",
            "  -2.10534064e-10 -2.09990271e-10]\n",
            " [-4.53958114e-10 -4.49054409e-10 -4.43977377e-10 ... -4.67389064e-10\n",
            "  -4.63173341e-10 -4.58664385e-10]\n",
            " [ 1.12559504e-10  1.10532294e-10  1.08534470e-10 ...  1.18598958e-10\n",
            "   1.16589258e-10  1.14566462e-10]]\n"
          ]
        }
      ]
    },
    {
      "cell_type": "markdown",
      "source": [
        "We're eventually going to have an array of cluster classes that we're going to use to label dynamic regimes in the ocean. Let's make an array full of NaN (not-a-number) values that has the same shape as our other variables and store it in the data dictionary."
      ],
      "metadata": {
        "id": "xXwnzzbRtTYs"
      }
    },
    {
      "cell_type": "code",
      "source": [
        "data_dict['clusters'] = np.full_like(data_dict['BPT'],np.nan)"
      ],
      "metadata": {
        "id": "4VYRgr0cuHKg"
      },
      "execution_count": 6,
      "outputs": []
    },
    {
      "cell_type": "markdown",
      "source": [
        "## Reformatting as Xarray"
      ],
      "metadata": {
        "id": "pCumDPFEpFcf"
      }
    },
    {
      "cell_type": "markdown",
      "source": [
        "In the original paper, this data was loaded as numpy arrays. However, we'll take this opportunity to demonstrate the same procedure while relying on xarray. First, let's instantiate a blank dataset.<br><br>\n",
        "\n",
        "### Q1) Make a blank xarray dataset.<br>\n",
        "*Hint: Look at the xarray [documentation](https://duckduckgo.com/?q=xarray+dataset)*"
      ],
      "metadata": {
        "id": "vz_vQOCguax0"
      }
    },
    {
      "cell_type": "code",
      "source": [
        "# Make your blank dataset here! Instantiate the class without passing any parameters.\n",
        "ds = xr.Dataset()"
      ],
      "metadata": {
        "id": "JIPsLT6g-INq"
      },
      "execution_count": 30,
      "outputs": []
    },
    {
      "cell_type": "markdown",
      "source": [
        "<img src='https://unils-my.sharepoint.com/:i:/g/personal/tom_beucler_unil_ch/EZv_qqVz_h1Hio6Nq11ckScBb01bGb9jtNKzdqAg1TPrKQ?download=1'>\n",
        "<center> Image taken from the xarray <a href='https://xarray.pydata.org/en/stable/user-guide/data-structures.html#:~:text=Dataset-,xarray.,from%20the%20netCDF%20file%20format.'> <i>Data Structure documentation</i> </a> </center>\n",
        "\n",
        "In order to build the dataset, we're going to need a set of coordinate vectors that help us map out our data! For our data, we have two axes corresponding to longitude ($\\lambda$) and latitude ($\\phi$).\n",
        "\n",
        "We don't know much about how many lat/lon points we have, so let's explore one of the variables to make sense of the data the shape of one of the numpy arrays.\n",
        "\n",
        "### Q2) Visualize the data using a plot and printing the shape of the data to the console output."
      ],
      "metadata": {
        "id": "jJK9Ud9tp3_r"
      }
    },
    {
      "cell_type": "code",
      "source": [
        "#Complete the code\n",
        "# Let's print out an image of the Bottom Pressure Torques (BPT)\n",
        "plt.imshow( data_dict[\"BPT\"] , origin='lower')"
      ],
      "metadata": {
        "id": "Kiw2tAT1D6Ny",
        "outputId": "f4c618eb-4b46-41b5-fc80-622471b2755d",
        "colab": {
          "base_uri": "https://localhost:8080/",
          "height": 329
        }
      },
      "execution_count": 19,
      "outputs": [
        {
          "output_type": "execute_result",
          "data": {
            "text/plain": [
              "<matplotlib.image.AxesImage at 0x798bd30f72f0>"
            ]
          },
          "metadata": {},
          "execution_count": 19
        },
        {
          "output_type": "display_data",
          "data": {
            "text/plain": [
              "<Figure size 640x480 with 1 Axes>"
            ],
            "image/png": "[encoded data removed]"
          },
          "metadata": {}
        }
      ]
    },
    {
      "cell_type": "code",
      "source": [
        "# It will also be useful to store and print out the shape of the data\n",
        "data_shape = data_dict[\"BPT\"].shape\n",
        "print(data_shape)"
      ],
      "metadata": {
        "id": "k6E_4MivCoWQ",
        "outputId": "a74997ca-5050-45bd-9c17-de533a33b522",
        "colab": {
          "base_uri": "https://localhost:8080/"
        }
      },
      "execution_count": 20,
      "outputs": [
        {
          "output_type": "stream",
          "name": "stdout",
          "text": [
            "(360, 720)\n"
          ]
        }
      ]
    },
    {
      "cell_type": "markdown",
      "source": [
        "Now that we know how the resolution of our data, we can prepare a set of axis arrays. We will use these to organize the data we will feed into the dataset.\n",
        "\n",
        "### Q3) Prepare the latitude and longitude arrays to be used as axes for our dataset\n",
        "\n",
        "*Hint 1: You can build ordered numpy arrays using, e.g., [numpy.linspace](https://numpy.org/doc/stable/reference/generated/numpy.linspace.html) and [numpy.arange](https://numpy.org/doc/stable/reference/generated/numpy.arange.html)*\n",
        "\n",
        "*Hint 2: You can rely on the data_shape variable we loaded previously to know how many points you need along each axis*"
      ],
      "metadata": {
        "id": "aXyxepjm-N5z"
      }
    },
    {
      "cell_type": "code",
      "source": [
        "#Complete the code\n",
        "# Let's prepare the lat and lon axes for our data.\n",
        "lat = np.linspace(0,data_shape[0],360)\n",
        "lon = np.linspace(0,data_shape[1],720)"
      ],
      "metadata": {
        "id": "vwzO0ZWMNHKg"
      },
      "execution_count": 57,
      "outputs": []
    },
    {
      "cell_type": "markdown",
      "source": [
        "Now that we have the axes we need, we can build xarray [*data arrays*](https://xarray.pydata.org/en/stable/generated/xarray.DataArray.html) for each data variable. Since we'll be doing it several times, let's go ahead and defined a function that does this for us!\n",
        "\n",
        "### Q4) Define a function that takes in: 1) an array name, 2) a numpy array, 3) a lat vector, and 4) a lon vector. The function should return a dataArray with lat-lon as the coordinate dimensions"
      ],
      "metadata": {
        "id": "yxnAU_gjOqVo"
      }
    },
    {
      "cell_type": "code",
      "source": [
        "#Complete the code\n",
        "def np_to_xr(array_name, array, lat, lon):\n",
        "    #building the xarrray\n",
        "    da = xr.DataArray(data = array, # Data to be stored\n",
        "\n",
        "                  #set the name of dimensions for the dataArray\n",
        "                  dims = ['lat', 'lon'],\n",
        "\n",
        "                  #Set the dictionary pointing the name dimensions to np arrays\n",
        "                  coords = {'lat':lat,\n",
        "                            'lon':lon},\n",
        "\n",
        "                  name=array_name)\n",
        "    return da"
      ],
      "metadata": {
        "id": "7FCXLhYfPiQD"
      },
      "execution_count": 58,
      "outputs": []
    },
    {
      "cell_type": "markdown",
      "source": [
        "We're now ready to build our data array! Let's iterate through the items and merge our blank dataset with the data arrays we create.\n",
        "\n",
        "### Q5) Build the dataset from the data dictionary\n",
        "\n",
        "*Hint: We'll be using the xarray merge command to put everything together.*"
      ],
      "metadata": {
        "id": "l9xgQaM9Rrv1"
      }
    },
    {
      "cell_type": "code",
      "source": [
        "# The code in the notebook assumes you named your dataset ds. Change it to\n",
        "# whatever you used!\n",
        "\n",
        "# Complete the code\n",
        "for key, item in data_dict.items():\n",
        "    # Let's make use of our np_to_xr function to get the data as a dataArray\n",
        "    da = np_to_xr(key, item, lat, lon)\n",
        "\n",
        "    # Merge the dataSet with the dataArray here!\n",
        "    ds = xr.merge( [ds , da ] )"
      ],
      "metadata": {
        "id": "4pLXUfvLSZKf"
      },
      "execution_count": 59,
      "outputs": []
    },
    {
      "cell_type": "markdown",
      "source": [
        "Congratulations! You should now have a nicely set up xarray dataset. This let's you access a ton of nice features, e.g.:\n",
        "> Data plotting by calling, e.g., `ds.BPT.plot.imshow(cmap='ocean')`\n",
        ">\n",
        "> Find statistical measures of all variables at once! (e.g.: `ds.std()`, `ds.mean()`)"
      ],
      "metadata": {
        "id": "aC1Gq_q7WEWc"
      }
    },
    {
      "cell_type": "code",
      "source": [
        "ds"
      ],
      "metadata": {
        "id": "U4SVMDur5lQn",
        "outputId": "8a79d454-f876-45ba-fca9-4687855251d1",
        "colab": {
          "base_uri": "https://localhost:8080/",
          "height": 389
        }
      },
      "execution_count": 42,
      "outputs": [
        {
          "output_type": "execute_result",
          "data": {
            "text/plain": [
              "<xarray.Dataset> Size: 15MB\n",
              "Dimensions:    (lat: 360, lon: 720)\n",
              "Coordinates:\n",
              "  * lat        (lat) float64 3kB 0.0 1.003 2.006 3.008 ... 358.0 359.0 360.0\n",
              "  * lon        (lon) float64 6kB 0.0 1.001 2.003 3.004 ... 718.0 719.0 720.0\n",
              "Data variables:\n",
              "    curlTau    (lat, lon) float64 2MB nan nan nan ... -1.358e-11 -1.348e-11\n",
              "    curlB      (lat, lon) float64 2MB nan nan nan ... 1.279e-11 1.27e-11\n",
              "    BPT        (lat, lon) float64 2MB nan nan nan ... 3.496e-10 3.525e-10\n",
              "    curlA      (lat, lon) float64 2MB nan nan nan ... 1.166e-10 1.146e-10\n",
              "    curlCori   (lat, lon) float64 2MB nan nan nan ... -4.638e-10 -4.647e-10\n",
              "    noiseMask  (lat, lon) float64 2MB nan nan nan nan nan ... 1.0 1.0 1.0 1.0\n",
              "    clusters   (lat, lon) float64 2MB nan nan nan nan nan ... nan nan nan nan"
            ],
            "text/html": [
              "<div><svg style=\"position: absolute; width: 0; height: 0; overflow: hidden\">\n",
              "<defs>\n",
              "<symbol id=\"icon-database\" viewBox=\"0 0 32 32\">\n",
              "<path d=\"M16 0c-8.837 0-16 2.239-16 5v4c0 2.761 7.163 5 16 5s16-2.239 16-5v-4c0-2.761-7.163-5-16-5z\"></path>\n",
              "<path d=\"M16 17c-8.837 0-16-2.239-16-5v6c0 2.761 7.163 5 16 5s16-2.239 16-5v-6c0 2.761-7.163 5-16 5z\"></path>\n",
              "<path d=\"M16 26c-8.837 0-16-2.239-16-5v6c0 2.761 7.163 5 16 5s16-2.239 16-5v-6c0 2.761-7.163 5-16 5z\"></path>\n",
              "</symbol>\n",
              "<symbol id=\"icon-file-text2\" viewBox=\"0 0 32 32\">\n",
              "<path d=\"M28.681 7.159c-0.694-0.947-1.662-2.053-2.724-3.116s-2.169-2.030-3.116-2.724c-1.612-1.182-2.393-1.319-2.841-1.319h-15.5c-1.378 0-2.5 1.121-2.5 2.5v27c0 1.378 1.122 2.5 2.5 2.5h23c1.378 0 2.5-1.122 2.5-2.5v-19.5c0-0.448-0.137-1.23-1.319-2.841zM24.543 5.457c0.959 0.959 1.712 1.825 2.268 2.543h-4.811v-4.811c0.718 0.556 1.584 1.309 2.543 2.268zM28 29.5c0 0.271-0.229 0.5-0.5 0.5h-23c-0.271 0-0.5-0.229-0.5-0.5v-27c0-0.271 0.229-0.5 0.5-0.5 0 0 15.499-0 15.5 0v7c0 0.552 0.448 1 1 1h7v19.5z\"></path>\n",
              "<path d=\"M23 26h-14c-0.552 0-1-0.448-1-1s0.448-1 1-1h14c0.552 0 1 0.448 1 1s-0.448 1-1 1z\"></path>\n",
              "<path d=\"M23 22h-14c-0.552 0-1-0.448-1-1s0.448-1 1-1h14c0.552 0 1 0.448 1 1s-0.448 1-1 1z\"></path>\n",
              "<path d=\"M23 18h-14c-0.552 0-1-0.448-1-1s0.448-1 1-1h14c0.552 0 1 0.448 1 1s-0.448 1-1 1z\"></path>\n",
              "</symbol>\n",
              "</defs>\n",
              "</svg>\n",
              "<style>/* CSS stylesheet for displaying xarray objects in notebooks */\n",
              "\n",
              ":root {\n",
              "  --xr-font-color0: var(\n",
              "    --jp-content-font-color0,\n",
              "    var(--pst-color-text-base rgba(0, 0, 0, 1))\n",
              "  );\n",
              "  --xr-font-color2: var(\n",
              "    --jp-content-font-color2,\n",
              "    var(--pst-color-text-base, rgba(0, 0, 0, 0.54))\n",
              "  );\n",
              "  --xr-font-color3: var(\n",
              "    --jp-content-font-color3,\n",
              "    var(--pst-color-text-base, rgba(0, 0, 0, 0.38))\n",
              "  );\n",
              "  --xr-border-color: var(\n",
              "    --jp-border-color2,\n",
              "    hsl(from var(--pst-color-on-background, white) h s calc(l - 10))\n",
              "  );\n",
              "  --xr-disabled-color: var(\n",
              "    --jp-layout-color3,\n",
              "    hsl(from var(--pst-color-on-background, white) h s calc(l - 40))\n",
              "  );\n",
              "  --xr-background-color: var(\n",
              "    --jp-layout-color0,\n",
              "    var(--pst-color-on-background, white)\n",
              "  );\n",
              "  --xr-background-color-row-even: var(\n",
              "    --jp-layout-color1,\n",
              "    hsl(from var(--pst-color-on-background, white) h s calc(l - 5))\n",
              "  );\n",
              "  --xr-background-color-row-odd: var(\n",
              "    --jp-layout-color2,\n",
              "    hsl(from var(--pst-color-on-background, white) h s calc(l - 15))\n",
              "  );\n",
              "}\n",
              "\n",
              "html[theme=\"dark\"],\n",
              "html[data-theme=\"dark\"],\n",
              "body[data-theme=\"dark\"],\n",
              "body.vscode-dark {\n",
              "  --xr-font-color0: var(\n",
              "    --jp-content-font-color0,\n",
              "    var(--pst-color-text-base, rgba(255, 255, 255, 1))\n",
              "  );\n",
              "  --xr-font-color2: var(\n",
              "    --jp-content-font-color2,\n",
              "    var(--pst-color-text-base, rgba(255, 255, 255, 0.54))\n",
              "  );\n",
              "  --xr-font-color3: var(\n",
              "    --jp-content-font-color3,\n",
              "    var(--pst-color-text-base, rgba(255, 255, 255, 0.38))\n",
              "  );\n",
              "  --xr-border-color: var(\n",
              "    --jp-border-color2,\n",
              "    hsl(from var(--pst-color-on-background, #111111) h s calc(l + 10))\n",
              "  );\n",
              "  --xr-disabled-color: var(\n",
              "    --jp-layout-color3,\n",
              "    hsl(from var(--pst-color-on-background, #111111) h s calc(l + 40))\n",
              "  );\n",
              "  --xr-background-color: var(\n",
              "    --jp-layout-color0,\n",
              "    var(--pst-color-on-background, #111111)\n",
              "  );\n",
              "  --xr-background-color-row-even: var(\n",
              "    --jp-layout-color1,\n",
              "    hsl(from var(--pst-color-on-background, #111111) h s calc(l + 5))\n",
              "  );\n",
              "  --xr-background-color-row-odd: var(\n",
              "    --jp-layout-color2,\n",
              "    hsl(from var(--pst-color-on-background, #111111) h s calc(l + 15))\n",
              "  );\n",
              "}\n",
              "\n",
              ".xr-wrap {\n",
              "  display: block !important;\n",
              "  min-width: 300px;\n",
              "  max-width: 700px;\n",
              "  line-height: 1.6;\n",
              "}\n",
              "\n",
              ".xr-text-repr-fallback {\n",
              "  /* fallback to plain text repr when CSS is not injected (untrusted notebook) */\n",
              "  display: none;\n",
              "}\n",
              "\n",
              ".xr-header {\n",
              "  padding-top: 6px;\n",
              "  padding-bottom: 6px;\n",
              "  margin-bottom: 4px;\n",
              "  border-bottom: solid 1px var(--xr-border-color);\n",
              "}\n",
              "\n",
              ".xr-header > div,\n",
              ".xr-header > ul {\n",
              "  display: inline;\n",
              "  margin-top: 0;\n",
              "  margin-bottom: 0;\n",
              "}\n",
              "\n",
              ".xr-obj-type,\n",
              ".xr-obj-name,\n",
              ".xr-group-name {\n",
              "  margin-left: 2px;\n",
              "  margin-right: 10px;\n",
              "}\n",
              "\n",
              ".xr-group-name::before {\n",
              "  content: \"📁\";\n",
              "  padding-right: 0.3em;\n",
              "}\n",
              "\n",
              ".xr-group-name,\n",
              ".xr-obj-type {\n",
              "  color: var(--xr-font-color2);\n",
              "}\n",
              "\n",
              ".xr-sections {\n",
              "  padding-left: 0 !important;\n",
              "  display: grid;\n",
              "  grid-template-columns: 150px auto auto 1fr 0 20px 0 20px;\n",
              "  margin-block-start: 0;\n",
              "  margin-block-end: 0;\n",
              "}\n",
              "\n",
              ".xr-section-item {\n",
              "  display: contents;\n",
              "}\n",
              "\n",
              ".xr-section-item input {\n",
              "  display: inline-block;\n",
              "  opacity: 0;\n",
              "  height: 0;\n",
              "  margin: 0;\n",
              "}\n",
              "\n",
              ".xr-section-item input + label {\n",
              "  color: var(--xr-disabled-color);\n",
              "  border: 2px solid transparent !important;\n",
              "}\n",
              "\n",
              ".xr-section-item input:enabled + label {\n",
              "  cursor: pointer;\n",
              "  color: var(--xr-font-color2);\n",
              "}\n",
              "\n",
              ".xr-section-item input:focus + label {\n",
              "  border: 2px solid var(--xr-font-color0) !important;\n",
              "}\n",
              "\n",
              ".xr-section-item input:enabled + label:hover {\n",
              "  color: var(--xr-font-color0);\n",
              "}\n",
              "\n",
              ".xr-section-summary {\n",
              "  grid-column: 1;\n",
              "  color: var(--xr-font-color2);\n",
              "  font-weight: 500;\n",
              "}\n",
              "\n",
              ".xr-section-summary > span {\n",
              "  display: inline-block;\n",
              "  padding-left: 0.5em;\n",
              "}\n",
              "\n",
              ".xr-section-summary-in:disabled + label {\n",
              "  color: var(--xr-font-color2);\n",
              "}\n",
              "\n",
              ".xr-section-summary-in + label:before {\n",
              "  display: inline-block;\n",
              "  content: \"►\";\n",
              "  font-size: 11px;\n",
              "  width: 15px;\n",
              "  text-align: center;\n",
              "}\n",
              "\n",
              ".xr-section-summary-in:disabled + label:before {\n",
              "  color: var(--xr-disabled-color);\n",
              "}\n",
              "\n",
              ".xr-section-summary-in:checked + label:before {\n",
              "  content: \"▼\";\n",
              "}\n",
              "\n",
              ".xr-section-summary-in:checked + label > span {\n",
              "  display: none;\n",
              "}\n",
              "\n",
              ".xr-section-summary,\n",
              ".xr-section-inline-details {\n",
              "  padding-top: 4px;\n",
              "}\n",
              "\n",
              ".xr-section-inline-details {\n",
              "  grid-column: 2 / -1;\n",
              "}\n",
              "\n",
              ".xr-section-details {\n",
              "  display: none;\n",
              "  grid-column: 1 / -1;\n",
              "  margin-top: 4px;\n",
              "  margin-bottom: 5px;\n",
              "}\n",
              "\n",
              ".xr-section-summary-in:checked ~ .xr-section-details {\n",
              "  display: contents;\n",
              "}\n",
              "\n",
              ".xr-group-box {\n",
              "  display: inline-grid;\n",
              "  grid-template-columns: 0px 20px auto;\n",
              "  width: 100%;\n",
              "}\n",
              "\n",
              ".xr-group-box-vline {\n",
              "  grid-column-start: 1;\n",
              "  border-right: 0.2em solid;\n",
              "  border-color: var(--xr-border-color);\n",
              "  width: 0px;\n",
              "}\n",
              "\n",
              ".xr-group-box-hline {\n",
              "  grid-column-start: 2;\n",
              "  grid-row-start: 1;\n",
              "  height: 1em;\n",
              "  width: 20px;\n",
              "  border-bottom: 0.2em solid;\n",
              "  border-color: var(--xr-border-color);\n",
              "}\n",
              "\n",
              ".xr-group-box-contents {\n",
              "  grid-column-start: 3;\n",
              "}\n",
              "\n",
              ".xr-array-wrap {\n",
              "  grid-column: 1 / -1;\n",
              "  display: grid;\n",
              "  grid-template-columns: 20px auto;\n",
              "}\n",
              "\n",
              ".xr-array-wrap > label {\n",
              "  grid-column: 1;\n",
              "  vertical-align: top;\n",
              "}\n",
              "\n",
              ".xr-preview {\n",
              "  color: var(--xr-font-color3);\n",
              "}\n",
              "\n",
              ".xr-array-preview,\n",
              ".xr-array-data {\n",
              "  padding: 0 5px !important;\n",
              "  grid-column: 2;\n",
              "}\n",
              "\n",
              ".xr-array-data,\n",
              ".xr-array-in:checked ~ .xr-array-preview {\n",
              "  display: none;\n",
              "}\n",
              "\n",
              ".xr-array-in:checked ~ .xr-array-data,\n",
              ".xr-array-preview {\n",
              "  display: inline-block;\n",
              "}\n",
              "\n",
              ".xr-dim-list {\n",
              "  display: inline-block !important;\n",
              "  list-style: none;\n",
              "  padding: 0 !important;\n",
              "  margin: 0;\n",
              "}\n",
              "\n",
              ".xr-dim-list li {\n",
              "  display: inline-block;\n",
              "  padding: 0;\n",
              "  margin: 0;\n",
              "}\n",
              "\n",
              ".xr-dim-list:before {\n",
              "  content: \"(\";\n",
              "}\n",
              "\n",
              ".xr-dim-list:after {\n",
              "  content: \")\";\n",
              "}\n",
              "\n",
              ".xr-dim-list li:not(:last-child):after {\n",
              "  content: \",\";\n",
              "  padding-right: 5px;\n",
              "}\n",
              "\n",
              ".xr-has-index {\n",
              "  font-weight: bold;\n",
              "}\n",
              "\n",
              ".xr-var-list,\n",
              ".xr-var-item {\n",
              "  display: contents;\n",
              "}\n",
              "\n",
              ".xr-var-item > div,\n",
              ".xr-var-item label,\n",
              ".xr-var-item > .xr-var-name span {\n",
              "  background-color: var(--xr-background-color-row-even);\n",
              "  border-color: var(--xr-background-color-row-odd);\n",
              "  margin-bottom: 0;\n",
              "  padding-top: 2px;\n",
              "}\n",
              "\n",
              ".xr-var-item > .xr-var-name:hover span {\n",
              "  padding-right: 5px;\n",
              "}\n",
              "\n",
              ".xr-var-list > li:nth-child(odd) > div,\n",
              ".xr-var-list > li:nth-child(odd) > label,\n",
              ".xr-var-list > li:nth-child(odd) > .xr-var-name span {\n",
              "  background-color: var(--xr-background-color-row-odd);\n",
              "  border-color: var(--xr-background-color-row-even);\n",
              "}\n",
              "\n",
              ".xr-var-name {\n",
              "  grid-column: 1;\n",
              "}\n",
              "\n",
              ".xr-var-dims {\n",
              "  grid-column: 2;\n",
              "}\n",
              "\n",
              ".xr-var-dtype {\n",
              "  grid-column: 3;\n",
              "  text-align: right;\n",
              "  color: var(--xr-font-color2);\n",
              "}\n",
              "\n",
              ".xr-var-preview {\n",
              "  grid-column: 4;\n",
              "}\n",
              "\n",
              ".xr-index-preview {\n",
              "  grid-column: 2 / 5;\n",
              "  color: var(--xr-font-color2);\n",
              "}\n",
              "\n",
              ".xr-var-name,\n",
              ".xr-var-dims,\n",
              ".xr-var-dtype,\n",
              ".xr-preview,\n",
              ".xr-attrs dt {\n",
              "  white-space: nowrap;\n",
              "  overflow: hidden;\n",
              "  text-overflow: ellipsis;\n",
              "  padding-right: 10px;\n",
              "}\n",
              "\n",
              ".xr-var-name:hover,\n",
              ".xr-var-dims:hover,\n",
              ".xr-var-dtype:hover,\n",
              ".xr-attrs dt:hover {\n",
              "  overflow: visible;\n",
              "  width: auto;\n",
              "  z-index: 1;\n",
              "}\n",
              "\n",
              ".xr-var-attrs,\n",
              ".xr-var-data,\n",
              ".xr-index-data {\n",
              "  display: none;\n",
              "  border-top: 2px dotted var(--xr-background-color);\n",
              "  padding-bottom: 20px !important;\n",
              "  padding-top: 10px !important;\n",
              "}\n",
              "\n",
              ".xr-var-attrs-in + label,\n",
              ".xr-var-data-in + label,\n",
              ".xr-index-data-in + label {\n",
              "  padding: 0 1px;\n",
              "}\n",
              "\n",
              ".xr-var-attrs-in:checked ~ .xr-var-attrs,\n",
              ".xr-var-data-in:checked ~ .xr-var-data,\n",
              ".xr-index-data-in:checked ~ .xr-index-data {\n",
              "  display: block;\n",
              "}\n",
              "\n",
              ".xr-var-data > table {\n",
              "  float: right;\n",
              "}\n",
              "\n",
              ".xr-var-data > pre,\n",
              ".xr-index-data > pre,\n",
              ".xr-var-data > table > tbody > tr {\n",
              "  background-color: transparent !important;\n",
              "}\n",
              "\n",
              ".xr-var-name span,\n",
              ".xr-var-data,\n",
              ".xr-index-name div,\n",
              ".xr-index-data,\n",
              ".xr-attrs {\n",
              "  padding-left: 25px !important;\n",
              "}\n",
              "\n",
              ".xr-attrs,\n",
              ".xr-var-attrs,\n",
              ".xr-var-data,\n",
              ".xr-index-data {\n",
              "  grid-column: 1 / -1;\n",
              "}\n",
              "\n",
              "dl.xr-attrs {\n",
              "  padding: 0;\n",
              "  margin: 0;\n",
              "  display: grid;\n",
              "  grid-template-columns: 125px auto;\n",
              "}\n",
              "\n",
              ".xr-attrs dt,\n",
              ".xr-attrs dd {\n",
              "  padding: 0;\n",
              "  margin: 0;\n",
              "  float: left;\n",
              "  padding-right: 10px;\n",
              "  width: auto;\n",
              "}\n",
              "\n",
              ".xr-attrs dt {\n",
              "  font-weight: normal;\n",
              "  grid-column: 1;\n",
              "}\n",
              "\n",
              ".xr-attrs dt:hover span {\n",
              "  display: inline-block;\n",
              "  background: var(--xr-background-color);\n",
              "  padding-right: 10px;\n",
              "}\n",
              "\n",
              ".xr-attrs dd {\n",
              "  grid-column: 2;\n",
              "  white-space: pre-wrap;\n",
              "  word-break: break-all;\n",
              "}\n",
              "\n",
              ".xr-icon-database,\n",
              ".xr-icon-file-text2,\n",
              ".xr-no-icon {\n",
              "  display: inline-block;\n",
              "  vertical-align: middle;\n",
              "  width: 1em;\n",
              "  height: 1.5em !important;\n",
              "  stroke-width: 0;\n",
              "  stroke: currentColor;\n",
              "  fill: currentColor;\n",
              "}\n",
              "\n",
              ".xr-var-attrs-in:checked + label > .xr-icon-file-text2,\n",
              ".xr-var-data-in:checked + label > .xr-icon-database,\n",
              ".xr-index-data-in:checked + label > .xr-icon-database {\n",
              "  color: var(--xr-font-color0);\n",
              "  filter: drop-shadow(1px 1px 5px var(--xr-font-color2));\n",
              "  stroke-width: 0.8px;\n",
              "}\n",
              "</style><pre class='xr-text-repr-fallback'>&lt;xarray.Dataset&gt; Size: 15MB\n",
              "Dimensions:    (lat: 360, lon: 720)\n",
              "Coordinates:\n",
              "  * lat        (lat) float64 3kB 0.0 1.003 2.006 3.008 ... 358.0 359.0 360.0\n",
              "  * lon        (lon) float64 6kB 0.0 1.001 2.003 3.004 ... 718.0 719.0 720.0\n",
              "Data variables:\n",
              "    curlTau    (lat, lon) float64 2MB nan nan nan ... -1.358e-11 -1.348e-11\n",
              "    curlB      (lat, lon) float64 2MB nan nan nan ... 1.279e-11 1.27e-11\n",
              "    BPT        (lat, lon) float64 2MB nan nan nan ... 3.496e-10 3.525e-10\n",
              "    curlA      (lat, lon) float64 2MB nan nan nan ... 1.166e-10 1.146e-10\n",
              "    curlCori   (lat, lon) float64 2MB nan nan nan ... -4.638e-10 -4.647e-10\n",
              "    noiseMask  (lat, lon) float64 2MB nan nan nan nan nan ... 1.0 1.0 1.0 1.0\n",
              "    clusters   (lat, lon) float64 2MB nan nan nan nan nan ... nan nan nan nan</pre><div class='xr-wrap' style='display:none'><div class='xr-header'><div class='xr-obj-type'>xarray.Dataset</div></div><ul class='xr-sections'><li class='xr-section-item'><input id='section-5f770d53-ab3a-42f0-b286-3cfc9a4166ca' class='xr-section-summary-in' type='checkbox' disabled ><label for='section-5f770d53-ab3a-42f0-b286-3cfc9a4166ca' class='xr-section-summary'  title='Expand/collapse section'>Dimensions:</label><div class='xr-section-inline-details'><ul class='xr-dim-list'><li><span class='xr-has-index'>lat</span>: 360</li><li><span class='xr-has-index'>lon</span>: 720</li></ul></div><div class='xr-section-details'></div></li><li class='xr-section-item'><input id='section-31fa8604-1428-4502-9384-9865eb9ab1ef' class='xr-section-summary-in' type='checkbox'  checked><label for='section-31fa8604-1428-4502-9384-9865eb9ab1ef' class='xr-section-summary' >Coordinates: <span>(2)</span></label><div class='xr-section-inline-details'></div><div class='xr-section-details'><ul class='xr-var-list'><li class='xr-var-item'><div class='xr-var-name'><span class='xr-has-index'>lat</span></div><div class='xr-var-dims'>(lat)</div><div class='xr-var-dtype'>float64</div><div class='xr-var-preview xr-preview'>0.0 1.003 2.006 ... 359.0 360.0</div><input id='attrs-e87e7db3-79b8-4300-b2e2-4cbc97ef185f' class='xr-var-attrs-in' type='checkbox' disabled><label for='attrs-e87e7db3-79b8-4300-b2e2-4cbc97ef185f' title='Show/Hide attributes'><svg class='icon xr-icon-file-text2'><use xlink:href='#icon-file-text2'></use></svg></label><input id='data-9ba20b08-7416-44ad-a930-5f72535421c6' class='xr-var-data-in' type='checkbox'><label for='data-9ba20b08-7416-44ad-a930-5f72535421c6' title='Show/Hide data repr'><svg class='icon xr-icon-database'><use xlink:href='#icon-database'></use></svg></label><div class='xr-var-attrs'><dl class='xr-attrs'></dl></div><div class='xr-var-data'><pre>array([  0.      ,   1.002786,   2.005571, ..., 357.994429, 358.997214,\n",
              "       360.      ])</pre></div></li><li class='xr-var-item'><div class='xr-var-name'><span class='xr-has-index'>lon</span></div><div class='xr-var-dims'>(lon)</div><div class='xr-var-dtype'>float64</div><div class='xr-var-preview xr-preview'>0.0 1.001 2.003 ... 719.0 720.0</div><input id='attrs-cdbee92e-73be-4983-b21f-262c24c0a0e9' class='xr-var-attrs-in' type='checkbox' disabled><label for='attrs-cdbee92e-73be-4983-b21f-262c24c0a0e9' title='Show/Hide attributes'><svg class='icon xr-icon-file-text2'><use xlink:href='#icon-file-text2'></use></svg></label><input id='data-27476525-0e86-4a30-a154-e59945a1887b' class='xr-var-data-in' type='checkbox'><label for='data-27476525-0e86-4a30-a154-e59945a1887b' title='Show/Hide data repr'><svg class='icon xr-icon-database'><use xlink:href='#icon-database'></use></svg></label><div class='xr-var-attrs'><dl class='xr-attrs'></dl></div><div class='xr-var-data'><pre>array([  0.      ,   1.001391,   2.002782, ..., 717.997218, 718.998609,\n",
              "       720.      ])</pre></div></li></ul></div></li><li class='xr-section-item'><input id='section-d7ebb1ca-e49b-43d0-a3a1-1318c20a6be3' class='xr-section-summary-in' type='checkbox'  checked><label for='section-d7ebb1ca-e49b-43d0-a3a1-1318c20a6be3' class='xr-section-summary' >Data variables: <span>(7)</span></label><div class='xr-section-inline-details'></div><div class='xr-section-details'><ul class='xr-var-list'><li class='xr-var-item'><div class='xr-var-name'><span>curlTau</span></div><div class='xr-var-dims'>(lat, lon)</div><div class='xr-var-dtype'>float64</div><div class='xr-var-preview xr-preview'>nan nan ... -1.358e-11 -1.348e-11</div><input id='attrs-c39cc36e-a4b7-46be-9258-72e532ee46c7' class='xr-var-attrs-in' type='checkbox' disabled><label for='attrs-c39cc36e-a4b7-46be-9258-72e532ee46c7' title='Show/Hide attributes'><svg class='icon xr-icon-file-text2'><use xlink:href='#icon-file-text2'></use></svg></label><input id='data-a73b8ec4-1e45-4218-b892-12c1df296626' class='xr-var-data-in' type='checkbox'><label for='data-a73b8ec4-1e45-4218-b892-12c1df296626' title='Show/Hide data repr'><svg class='icon xr-icon-database'><use xlink:href='#icon-database'></use></svg></label><div class='xr-var-attrs'><dl class='xr-attrs'></dl></div><div class='xr-var-data'><pre>array([[            nan,             nan,             nan, ...,\n",
              "                    nan,             nan,             nan],\n",
              "       [            nan,             nan,             nan, ...,\n",
              "                    nan,             nan,             nan],\n",
              "       [            nan,             nan,             nan, ...,\n",
              "                    nan,             nan,             nan],\n",
              "       ...,\n",
              "       [-1.50804074e-11, -1.38740423e-11, -1.26829094e-11, ...,\n",
              "        -1.75898502e-11, -1.70483291e-11, -1.62937674e-11],\n",
              "       [-2.40229606e-11, -2.33721971e-11, -2.27163128e-11, ...,\n",
              "        -2.59515534e-11, -2.53148197e-11, -2.46727400e-11],\n",
              "       [-1.33861875e-11, -1.32861630e-11, -1.31878838e-11, ...,\n",
              "        -1.36808540e-11, -1.35834491e-11, -1.34843067e-11]])</pre></div></li><li class='xr-var-item'><div class='xr-var-name'><span>curlB</span></div><div class='xr-var-dims'>(lat, lon)</div><div class='xr-var-dtype'>float64</div><div class='xr-var-preview xr-preview'>nan nan nan ... 1.279e-11 1.27e-11</div><input id='attrs-4d70fa00-4990-452b-9b17-e4945704b07f' class='xr-var-attrs-in' type='checkbox' disabled><label for='attrs-4d70fa00-4990-452b-9b17-e4945704b07f' title='Show/Hide attributes'><svg class='icon xr-icon-file-text2'><use xlink:href='#icon-file-text2'></use></svg></label><input id='data-517140bb-0414-41ba-bc2c-9704218c195f' class='xr-var-data-in' type='checkbox'><label for='data-517140bb-0414-41ba-bc2c-9704218c195f' title='Show/Hide data repr'><svg class='icon xr-icon-database'><use xlink:href='#icon-database'></use></svg></label><div class='xr-var-attrs'><dl class='xr-attrs'></dl></div><div class='xr-var-data'><pre>array([[            nan,             nan,             nan, ...,\n",
              "                    nan,             nan,             nan],\n",
              "       [            nan,             nan,             nan, ...,\n",
              "                    nan,             nan,             nan],\n",
              "       [            nan,             nan,             nan, ...,\n",
              "                    nan,             nan,             nan],\n",
              "       ...,\n",
              "       [-8.48804612e-12, -8.09476530e-12, -7.70072920e-12, ...,\n",
              "        -1.00130223e-11, -9.41033908e-12, -8.87845525e-12],\n",
              "       [-1.18409305e-11, -1.18952131e-11, -1.19473920e-11, ...,\n",
              "        -1.16654656e-11, -1.17268948e-11, -1.17848753e-11],\n",
              "       [ 1.26111815e-11,  1.25250403e-11,  1.24437042e-11, ...,\n",
              "         1.28843440e-11,  1.27896910e-11,  1.26984984e-11]])</pre></div></li><li class='xr-var-item'><div class='xr-var-name'><span>BPT</span></div><div class='xr-var-dims'>(lat, lon)</div><div class='xr-var-dtype'>float64</div><div class='xr-var-preview xr-preview'>nan nan nan ... 3.496e-10 3.525e-10</div><input id='attrs-48856b37-af58-442a-8c28-56a79d3f8a36' class='xr-var-attrs-in' type='checkbox' disabled><label for='attrs-48856b37-af58-442a-8c28-56a79d3f8a36' title='Show/Hide attributes'><svg class='icon xr-icon-file-text2'><use xlink:href='#icon-file-text2'></use></svg></label><input id='data-3f1a5bab-df87-4abb-92e4-985c7e474881' class='xr-var-data-in' type='checkbox'><label for='data-3f1a5bab-df87-4abb-92e4-985c7e474881' title='Show/Hide data repr'><svg class='icon xr-icon-database'><use xlink:href='#icon-database'></use></svg></label><div class='xr-var-attrs'><dl class='xr-attrs'></dl></div><div class='xr-var-data'><pre>array([[           nan,            nan,            nan, ...,\n",
              "                   nan,            nan,            nan],\n",
              "       [           nan,            nan,            nan, ...,\n",
              "                   nan,            nan,            nan],\n",
              "       [           nan,            nan,            nan, ...,\n",
              "                   nan,            nan,            nan],\n",
              "       ...,\n",
              "       [2.91824577e-10, 2.79597141e-10, 2.67941801e-10, ...,\n",
              "        3.60130179e-10, 3.29399238e-10, 3.04381556e-10],\n",
              "       [1.65025216e-09, 1.63083037e-09, 1.61104016e-09, ...,\n",
              "        1.70639128e-09, 1.68817223e-09, 1.66943716e-09],\n",
              "       [3.55323559e-10, 3.58131735e-10, 3.60815091e-10, ...,\n",
              "        3.46706442e-10, 3.49634081e-10, 3.52527302e-10]])</pre></div></li><li class='xr-var-item'><div class='xr-var-name'><span>curlA</span></div><div class='xr-var-dims'>(lat, lon)</div><div class='xr-var-dtype'>float64</div><div class='xr-var-preview xr-preview'>nan nan nan ... 1.166e-10 1.146e-10</div><input id='attrs-770a72ea-ab22-4b8e-8b81-dc090b052dad' class='xr-var-attrs-in' type='checkbox' disabled><label for='attrs-770a72ea-ab22-4b8e-8b81-dc090b052dad' title='Show/Hide attributes'><svg class='icon xr-icon-file-text2'><use xlink:href='#icon-file-text2'></use></svg></label><input id='data-be1d4912-edb2-47ec-99c6-5b500ac437dc' class='xr-var-data-in' type='checkbox'><label for='data-be1d4912-edb2-47ec-99c6-5b500ac437dc' title='Show/Hide data repr'><svg class='icon xr-icon-database'><use xlink:href='#icon-database'></use></svg></label><div class='xr-var-attrs'><dl class='xr-attrs'></dl></div><div class='xr-var-data'><pre>array([[            nan,             nan,             nan, ...,\n",
              "                    nan,             nan,             nan],\n",
              "       [            nan,             nan,             nan, ...,\n",
              "                    nan,             nan,             nan],\n",
              "       [            nan,             nan,             nan, ...,\n",
              "                    nan,             nan,             nan],\n",
              "       ...,\n",
              "       [-2.00494809e-10, -1.91009513e-10, -1.81546207e-10, ...,\n",
              "        -2.06477742e-10, -2.10534064e-10, -2.09990271e-10],\n",
              "       [-4.53958114e-10, -4.49054409e-10, -4.43977377e-10, ...,\n",
              "        -4.67389064e-10, -4.63173341e-10, -4.58664385e-10],\n",
              "       [ 1.12559504e-10,  1.10532294e-10,  1.08534470e-10, ...,\n",
              "         1.18598958e-10,  1.16589258e-10,  1.14566462e-10]])</pre></div></li><li class='xr-var-item'><div class='xr-var-name'><span>curlCori</span></div><div class='xr-var-dims'>(lat, lon)</div><div class='xr-var-dtype'>float64</div><div class='xr-var-preview xr-preview'>nan nan ... -4.638e-10 -4.647e-10</div><input id='attrs-5e8e588e-32ca-4f7a-a81a-bab464b0308e' class='xr-var-attrs-in' type='checkbox' disabled><label for='attrs-5e8e588e-32ca-4f7a-a81a-bab464b0308e' title='Show/Hide attributes'><svg class='icon xr-icon-file-text2'><use xlink:href='#icon-file-text2'></use></svg></label><input id='data-0b5ee953-a479-40fc-972c-234976d58760' class='xr-var-data-in' type='checkbox'><label for='data-0b5ee953-a479-40fc-972c-234976d58760' title='Show/Hide data repr'><svg class='icon xr-icon-database'><use xlink:href='#icon-database'></use></svg></label><div class='xr-var-attrs'><dl class='xr-attrs'></dl></div><div class='xr-var-data'><pre>array([[            nan,             nan,             nan, ...,\n",
              "                    nan,             nan,             nan],\n",
              "       [            nan,             nan,             nan, ...,\n",
              "                    nan,             nan,             nan],\n",
              "       [            nan,             nan,             nan, ...,\n",
              "                    nan,             nan,             nan],\n",
              "       ...,\n",
              "       [-6.92754602e-11, -6.81521990e-11, -6.75638325e-11, ...,\n",
              "        -1.27496946e-10, -9.38783601e-11, -7.07133252e-11],\n",
              "       [-1.16016079e-09, -1.14627098e-09, -1.13219307e-09, ...,\n",
              "        -1.20101830e-09, -1.18762320e-09, -1.17401354e-09],\n",
              "       [-4.65477304e-10, -4.66288146e-10, -4.67006256e-10, ...,\n",
              "        -4.62830594e-10, -4.63767098e-10, -4.64661454e-10]])</pre></div></li><li class='xr-var-item'><div class='xr-var-name'><span>noiseMask</span></div><div class='xr-var-dims'>(lat, lon)</div><div class='xr-var-dtype'>float64</div><div class='xr-var-preview xr-preview'>nan nan nan nan ... 1.0 1.0 1.0 1.0</div><input id='attrs-505ad18e-7f52-468f-a1cc-1cf55c9194d3' class='xr-var-attrs-in' type='checkbox' disabled><label for='attrs-505ad18e-7f52-468f-a1cc-1cf55c9194d3' title='Show/Hide attributes'><svg class='icon xr-icon-file-text2'><use xlink:href='#icon-file-text2'></use></svg></label><input id='data-0586f13c-3017-4cb8-a171-1815e7899130' class='xr-var-data-in' type='checkbox'><label for='data-0586f13c-3017-4cb8-a171-1815e7899130' title='Show/Hide data repr'><svg class='icon xr-icon-database'><use xlink:href='#icon-database'></use></svg></label><div class='xr-var-attrs'><dl class='xr-attrs'></dl></div><div class='xr-var-data'><pre>array([[nan, nan, nan, ..., nan, nan, nan],\n",
              "       [nan, nan, nan, ..., nan, nan, nan],\n",
              "       [nan, nan, nan, ..., nan, nan, nan],\n",
              "       ...,\n",
              "       [ 1.,  1.,  1., ...,  1.,  1.,  1.],\n",
              "       [ 1.,  1.,  1., ...,  1.,  1.,  1.],\n",
              "       [ 1.,  1.,  1., ...,  1.,  1.,  1.]])</pre></div></li><li class='xr-var-item'><div class='xr-var-name'><span>clusters</span></div><div class='xr-var-dims'>(lat, lon)</div><div class='xr-var-dtype'>float64</div><div class='xr-var-preview xr-preview'>nan nan nan nan ... nan nan nan nan</div><input id='attrs-12c72ca9-a245-4af5-b3ba-261ad0447dcc' class='xr-var-attrs-in' type='checkbox' disabled><label for='attrs-12c72ca9-a245-4af5-b3ba-261ad0447dcc' title='Show/Hide attributes'><svg class='icon xr-icon-file-text2'><use xlink:href='#icon-file-text2'></use></svg></label><input id='data-0aa25334-257b-4fd5-b95a-c371ec501fa4' class='xr-var-data-in' type='checkbox'><label for='data-0aa25334-257b-4fd5-b95a-c371ec501fa4' title='Show/Hide data repr'><svg class='icon xr-icon-database'><use xlink:href='#icon-database'></use></svg></label><div class='xr-var-attrs'><dl class='xr-attrs'></dl></div><div class='xr-var-data'><pre>array([[nan, nan, nan, ..., nan, nan, nan],\n",
              "       [nan, nan, nan, ..., nan, nan, nan],\n",
              "       [nan, nan, nan, ..., nan, nan, nan],\n",
              "       ...,\n",
              "       [nan, nan, nan, ..., nan, nan, nan],\n",
              "       [nan, nan, nan, ..., nan, nan, nan],\n",
              "       [nan, nan, nan, ..., nan, nan, nan]])</pre></div></li></ul></div></li></ul></div></div>"
            ]
          },
          "metadata": {},
          "execution_count": 42
        }
      ]
    },
    {
      "cell_type": "code",
      "source": [
        "ds.curlCori.mean().values"
      ],
      "metadata": {
        "id": "LVtN8EB56NNY",
        "outputId": "867afb87-8172-4346-e987-cc94d72bdccb",
        "colab": {
          "base_uri": "https://localhost:8080/"
        }
      },
      "execution_count": 45,
      "outputs": [
        {
          "output_type": "execute_result",
          "data": {
            "text/plain": [
              "array(7.74320585e-12)"
            ]
          },
          "metadata": {},
          "execution_count": 45
        }
      ]
    },
    {
      "cell_type": "code",
      "source": [
        "ds.curlTau.plot.imshow(cmap=\"ocean\")"
      ],
      "metadata": {
        "id": "uag0JpWzaaS-",
        "outputId": "4006e094-d0a1-4cd9-b3db-3318cda3a62e",
        "colab": {
          "base_uri": "https://localhost:8080/",
          "height": 494
        }
      },
      "execution_count": 39,
      "outputs": [
        {
          "output_type": "execute_result",
          "data": {
            "text/plain": [
              "<matplotlib.image.AxesImage at 0x798bc8feb590>"
            ]
          },
          "metadata": {},
          "execution_count": 39
        },
        {
          "output_type": "display_data",
          "data": {
            "text/plain": [
              "<Figure size 640x480 with 2 Axes>"
            ],
            "image/png": "[encoded data removed]"
          },
          "metadata": {}
        }
      ]
    },
    {
      "cell_type": "markdown",
      "source": [
        "Now we want to find clusters of data considering each grid point as a datapoint with 5 dimensional data. However, we went through a lot of work to get the data nicely associated with a lat and lon - do we really want to undo that?\n",
        "\n",
        "Luckily, xarray developers foresaw the need to group dimensions together. Let's create a 'flat' version of our dataset using the [`stack`](https://xarray.pydata.org/en/stable/generated/xarray.DataArray.stack.html) method. Let's make a flattened version of our dataset.\n",
        "\n",
        "### Q6) Store a flattened version of our dataset\n",
        "\n",
        "*Hint 1: You'll need to pass a dictionary with the 'new' stacked dimension name as the key and the 'flattened' dimensions as the values.*\n",
        "\n",
        "*Hint 2: xarrays have a ['.values' attribute](https://xarray.pydata.org/en/stable/generated/xarray.DataArray.values.html) that return their data as a numpy array.*"
      ],
      "metadata": {
        "id": "vEfuD2O8aZ4w"
      }
    },
    {
      "cell_type": "code",
      "source": [
        "print(len(ds.lat.values))\n",
        "print(len(ds.lon.values))"
      ],
      "metadata": {
        "id": "LA0RX8KE8pU0",
        "outputId": "7e6332c6-f312-4f10-d668-a6d8d476a60b",
        "colab": {
          "base_uri": "https://localhost:8080/"
        }
      },
      "execution_count": 49,
      "outputs": [
        {
          "output_type": "stream",
          "name": "stdout",
          "text": [
            "360\n",
            "720\n"
          ]
        }
      ]
    },
    {
      "cell_type": "code",
      "source": [
        "# Complete the code\n",
        "# Let's store the stacked version of our dataset\n",
        "stacked = ds.stack( { \"coords\" :[ \"lat\",\"lon\" ] } )"
      ],
      "metadata": {
        "id": "G4e2NDipb0Tr"
      },
      "execution_count": 60,
      "outputs": []
    },
    {
      "cell_type": "code",
      "source": [
        "# And verify the shape of our data\n",
        "print(stacked.to_array().coords.values)"
      ],
      "metadata": {
        "id": "UQt4-fFACtUm",
        "outputId": "f72676b4-5943-409c-8e1b-92f0107c9ca5",
        "colab": {
          "base_uri": "https://localhost:8080/"
        }
      },
      "execution_count": 62,
      "outputs": [
        {
          "output_type": "stream",
          "name": "stdout",
          "text": [
            "<bound method Mapping.values of Coordinates:\n",
            "  * variable  (variable) object 56B 'curlTau' 'curlB' ... 'noiseMask' 'clusters'\n",
            "  * coords    (coords) object 2MB MultiIndex\n",
            "  * lat       (coords) float64 2MB 0.0 0.0 0.0 0.0 ... 360.0 360.0 360.0 360.0\n",
            "  * lon       (coords) float64 2MB 0.0 1.001 2.003 3.004 ... 718.0 719.0 720.0>\n"
          ]
        }
      ]
    },
    {
      "cell_type": "markdown",
      "source": [
        "So far we've ignored an important point - we're supposed to have 5 variables, not 6! As you may have guessed, `noiseMask` helps us throw away data we dont want (e.g., from land mass or bad pixels).\n",
        "\n",
        "We're now going to clean up the stacked dataset using the noise mask. Relax and read through the code, since there won't be a question in this part :)"
      ],
      "metadata": {
        "id": "MZGPnmooffKy"
      }
    },
    {
      "cell_type": "code",
      "source": [
        "# Let's redefine stacked as all the points where noiseMask = 1, since noisemask\n",
        "# is binary data.\n",
        "\n",
        "print(f'Dataset shape before processing: {stacked.to_array().values.shape}')\n",
        "\n",
        "print(\"Let's do some data cleaning!\")\n",
        "print(f'Points before cleaning: {len(stacked.BPT)}')\n",
        "stacked = stacked.where(stacked.noiseMask==1, drop=True)\n",
        "print(f'Points after cleaning: {len(stacked.BPT)}')"
      ],
      "metadata": {
        "id": "sbXscaE_fcOj",
        "outputId": "a50fe646-e494-4034-a38d-e9a06d9a1b74",
        "colab": {
          "base_uri": "https://localhost:8080/"
        }
      },
      "execution_count": 63,
      "outputs": [
        {
          "output_type": "stream",
          "name": "stdout",
          "text": [
            "Dataset shape before processing: (7, 259200)\n",
            "Let's do some data cleaning!\n",
            "Points before cleaning: 259200\n",
            "Points after cleaning: 149714\n"
          ]
        }
      ]
    },
    {
      "cell_type": "code",
      "source": [
        "# We also no longer need the noiseMask variable, so we can just drop it.\n",
        "\n",
        "print('And drop the noisemask variable...')\n",
        "print(f'Before dropping: {stacked.to_array().values.shape}')\n",
        "stacked = stacked.drop('noiseMask')\n",
        "print(f'Dataset shape after processing: {stacked.to_array().values.shape}')"
      ],
      "metadata": {
        "id": "crX5HoD3C3Ls",
        "outputId": "7f7ecdf3-1eda-42a8-ebba-f9cc10fe2b2f",
        "colab": {
          "base_uri": "https://localhost:8080/"
        }
      },
      "execution_count": 64,
      "outputs": [
        {
          "output_type": "stream",
          "name": "stdout",
          "text": [
            "And drop the noisemask variable...\n",
            "Before dropping: (7, 149714)\n",
            "Dataset shape after processing: (6, 149714)\n"
          ]
        },
        {
          "output_type": "stream",
          "name": "stderr",
          "text": [
            "/tmp/ipython-input-3420367162.py:5: DeprecationWarning: dropping variables using `drop` is deprecated; use drop_vars.\n",
            "  stacked = stacked.drop('noiseMask')\n"
          ]
        }
      ]
    },
    {
      "cell_type": "markdown",
      "source": [
        "We now have several thousand points which we want to divide into clusters using the kmeans clustering algorithm (you can check out the documentation for scikit's implementation of kmeans [here](https://scikit-learn.org/stable/modules/generated/sklearn.cluster.KMeans.html)).\n",
        "\n",
        "You'll note that the algorithm expects the input data `X` to be fed as `(n_samples, n_features)`. This is the opposite of what we have! Let's go ahead and make a copy to a numpy array has the axes in the right order.\n",
        "\n",
        "You'll need xarray's [`.to_array()`](https://xarray.pydata.org/en/stable/generated/xarray.Dataset.to_array.html) method and [`.values`](https://xarray.pydata.org/en/stable/generated/xarray.DataArray.values.html) parameter, as well as numpy's [`.moveaxis`](https://numpy.org/doc/stable/reference/generated/numpy.moveaxis.html) method.\n",
        "\n",
        "### Q7) Load the datapoints into a numpy array following the convention where the 0th axis corresponds to the samples and the 1st axis corresponds to the features."
      ],
      "metadata": {
        "id": "5Pol90vsU_wv"
      }
    },
    {
      "cell_type": "code",
      "source": [
        "# Complete the code\n",
        "input_data = np._______(stacked._______(_______)._______()._______,  # data to reshape. Note that cluster is dropped since not needed for training\n",
        "                         _______,          # source axis as integer,\n",
        "                         _______)          # destination axis as integer"
      ],
      "metadata": {
        "id": "uu0AVVkPeTzC"
      },
      "execution_count": null,
      "outputs": []
    },
    {
      "cell_type": "code",
      "source": [
        "# Does the input data look the way it's supposed to? Print the shape.\n",
        "print(_______)"
      ],
      "metadata": {
        "id": "Vi9GZ-XsC6Nd"
      },
      "execution_count": null,
      "outputs": []
    },
    {
      "cell_type": "markdown",
      "source": [
        "## Kmeans clustering"
      ],
      "metadata": {
        "id": "Sd7dfacgRCuL"
      }
    },
    {
      "cell_type": "markdown",
      "source": [
        "In previous classes we discussed the importance of the scaling the data before implementing our algorithms. Now that our data is all but ready to be fed into an algorithm, let's make sure that it's been scaled.\n",
        "\n",
        "### Q8) Scale the input data\n",
        "\n",
        "*Hint 1: Import the [`StandardScaler`](https://scikit-learn.org/stable/modules/generated/sklearn.preprocessing.StandardScaler.html) class from scikit and instantiate it*\n",
        "\n",
        "*Hint 2: Update the input array to the one returned by the [`.fit_transform(X)`](https://scikit-learn.org/stable/modules/generated/sklearn.preprocessing.StandardScaler.html#sklearn.preprocessing.StandardScaler.fit_transform) method*"
      ],
      "metadata": {
        "id": "AoZSkMieiL9O"
      }
    },
    {
      "cell_type": "code",
      "source": [
        "#Write your scaling code here"
      ],
      "metadata": {
        "id": "D2sZPWf1ignO"
      },
      "execution_count": null,
      "outputs": []
    },
    {
      "cell_type": "markdown",
      "source": [
        "Now we're finally ready to train our algorithm! Let's load up the kmeans model and find clusters in our data.\n",
        "\n",
        "### Q9) Instantiate the kmeans clustering algorithm, and then fit it using 50 clusters, trying out 10 different initial centroids.\n",
        "\n",
        "*Hint 1: `sklearn.cluster` was imported as `cluser` during the notebook setup! [Here is the scikit `KMeans` documentation](https://scikit-learn.org/stable/modules/generated/sklearn.cluster.KMeans.html).*\n",
        "\n",
        "*Hint 2: Use the `fit_predict` method to organize the data into clusters*\n",
        "\n",
        "*Warning! : Fitting the data may take some time (under a minute during the testing of the notebook)"
      ],
      "metadata": {
        "id": "_z3e6dU8rInv"
      }
    },
    {
      "cell_type": "code",
      "source": [
        "# Complete the code\n",
        "kmeans = cluster._____(________ =50,  # Number of clusters\n",
        "                        ________ =42, # setting a random state\n",
        "                        ________ =10, # Number of initial centroid states to try\n",
        "                       verbose = 1)   # Verbosity so we know things are working"
      ],
      "metadata": {
        "id": "DtYyiksRrHPm"
      },
      "execution_count": null,
      "outputs": []
    },
    {
      "cell_type": "code",
      "source": [
        "cluster_labels = kmeans.______(____) # Feed in out scaled input data!"
      ],
      "metadata": {
        "id": "ohuw1WFiC8kS"
      },
      "execution_count": null,
      "outputs": []
    },
    {
      "cell_type": "markdown",
      "source": [
        "We now have a set of cluster labels that group the data into 50 similar groups. Let's store it in our stacked dataset!"
      ],
      "metadata": {
        "id": "XZXYUggc8xex"
      }
    },
    {
      "cell_type": "code",
      "source": [
        "# Let's run this line\n",
        "stacked['clusters'].values = cluster_labels"
      ],
      "metadata": {
        "id": "aH0qNHM89GER"
      },
      "execution_count": null,
      "outputs": []
    },
    {
      "cell_type": "markdown",
      "source": [
        "## Visualization"
      ],
      "metadata": {
        "id": "inC84qGpRLh5"
      }
    },
    {
      "cell_type": "markdown",
      "source": [
        "We now have a set of labels, but they're stored in a flattened array. Since we'd like to see the data as a map, we still have some work to do. Let's go back to a 2D representation of our values.\n",
        "\n",
        "### Q10) Turn the flattened xarray back into a set of 2D fields\n",
        "*Hint*: xarrays have an [`.unstack` method](https://xarray.pydata.org/en/stable/generated/xarray.DataArray.unstack.html) that you will find to be very useful for this."
      ],
      "metadata": {
        "id": "pFPN00oH9oI8"
      }
    },
    {
      "cell_type": "code",
      "source": [
        "# Complete the code:\n",
        "processed_ds = ds.____()"
      ],
      "metadata": {
        "id": "lp1u28inKUNT"
      },
      "execution_count": null,
      "outputs": []
    },
    {
      "cell_type": "markdown",
      "source": [
        "Now we have an unstacked dataset, and can now easily plot out the clusters we found!\n",
        "\n",
        "### Q11) Plot the 'cluster' variable using the built-in xarray function\n",
        "*Hint: `.plot()` [link text](https://xarray.pydata.org/en/stable/generated/xarray.DataArray.plot.html) let's you access the xarray implementations of [`pcolormesh`](https://matplotlib.org/3.1.1/api/_as_gen/matplotlib.pyplot.pcolormesh.html) and [`imshow`](https://matplotlib.org/3.1.1/api/_as_gen/matplotlib.pyplot.imshow.html).*"
      ],
      "metadata": {
        "id": "y4w0zUDn8OOU"
      }
    },
    {
      "cell_type": "code",
      "source": [],
      "metadata": {
        "id": "DLLCcgw_n3tu"
      },
      "execution_count": null,
      "outputs": []
    },
    {
      "cell_type": "markdown",
      "source": [
        "Compare your results to those from the paper:\n",
        "<img src='https://unils-my.sharepoint.com/:i:/g/personal/tom_beucler_unil_ch/EdLh6Ds0yVlFivyfIOXlV74B_G35dVz87GFagzylIG-gZA?download=1'>"
      ],
      "metadata": {
        "id": "sOja6JCxo45g"
      }
    },
    {
      "cell_type": "markdown",
      "source": [
        "We now want to find the 5 most common regimes, and group the rest. This isn't straightforward, so we've gone ahead and prepared the code for you. Run through it and try to understand what the code is doing!"
      ],
      "metadata": {
        "id": "HrLKLVWXtgeX"
      }
    },
    {
      "cell_type": "code",
      "source": [
        "# Make field filled with -1 vals so unprocessed points are easily retrieved.\n",
        "# Noise masked applied automatically by using previously found labels as base.\n",
        "processed_ds['final_clusters'] = (processed_ds.clusters * 0) - 1\n",
        "\n",
        "# Find the 5 most common cluster labels\n",
        "top_clusters = processed_ds.groupby('clusters').count().sortby('BPT').tail(5).clusters.values\n",
        "\n",
        "#Build the set of indices for the cluster data, used for rewriting cluster labels\n",
        "for idx, label in enumerate(top_clusters):\n",
        "    #Find the indices where the label is found\n",
        "    indices = (processed_ds.clusters == label)\n",
        "\n",
        "    processed_ds['final_clusters'].values[indices] = 4-idx\n",
        "\n",
        "# Set the remaining unlabeled regions to category 5 \"non-linear\"\n",
        "processed_ds['final_clusters'].values[processed_ds.final_clusters==-1] = 5\n",
        "\n",
        "# Plot the figure\n",
        "processed_ds.final_clusters.plot.imshow(cmap=mycmap, figsize=(18,8));"
      ],
      "metadata": {
        "id": "UO5OohbKptau"
      },
      "execution_count": null,
      "outputs": []
    },
    {
      "cell_type": "code",
      "source": [
        "# Feel free to use this space"
      ],
      "metadata": {
        "id": "IHSj9yRaUCSg"
      },
      "execution_count": null,
      "outputs": []
    },
    {
      "cell_type": "markdown",
      "source": [
        "Compare it to the regimes found in the paper:\n",
        "<img src='https://unils-my.sharepoint.com/:i:/g/personal/tom_beucler_unil_ch/EehuR9cUfaJImrw4DCAzDPoBiGuG7R3Ys6453Umi1cN_OQ?download=1'>\n",
        "\n"
      ],
      "metadata": {
        "id": "eEMmkpGkc1Xy"
      }
    },
    {
      "cell_type": "markdown",
      "source": [
        "The authors then went on to train neural networks ***to infer in-depth dynamics from data that is largely readily available from for example CMIP6 models, using NN methods to infer the source of predictive skill*** and ***to apply the trained Ensemble MLP to a climate model in order to assess circulation changes under global heating***.\n",
        "\n",
        "For our purposes, however, we will say goodbye to *THOR* at this point 😃"
      ],
      "metadata": {
        "id": "nbWgoD7bv8AH"
      }
    }
  ]
}